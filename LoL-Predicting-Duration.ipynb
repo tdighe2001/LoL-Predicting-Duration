{
 "cells": [
  {
   "cell_type": "markdown",
   "metadata": {},
   "source": [
    "# LoL-Predicting-Duration\n",
    "\n",
    "**Name(s)**: Nick Liu & Tanisha Dighe\n",
    "\n",
    "**Website Link**: https://tdighe2001.github.io/LoL-Predicting-Duration/"
   ]
  },
  {
   "cell_type": "markdown",
   "metadata": {},
   "source": [
    "## Code"
   ]
  },
  {
   "cell_type": "code",
   "execution_count": 318,
   "metadata": {
    "ExecuteTime": {
     "end_time": "2019-10-31T23:36:28.652554Z",
     "start_time": "2019-10-31T23:36:27.180520Z"
    }
   },
   "outputs": [],
   "source": [
    "import pandas as pd\n",
    "import numpy as np\n",
    "import os\n",
    "\n",
    "import plotly.express as px\n",
    "pd.options.plotting.backend = 'plotly'\n",
    "\n",
    "from sklearn.model_selection import train_test_split\n",
    "from sklearn.pipeline import Pipeline\n",
    "from sklearn.compose import ColumnTransformer\n",
    "from sklearn.preprocessing import FunctionTransformer, OneHotEncoder\n",
    "from sklearn.linear_model import LinearRegression,Ridge,Lasso\n",
    "from sklearn.neighbors import KNeighborsRegressor\n",
    "from sklearn.ensemble import GradientBoostingRegressor, ExtraTreesRegressor, RandomForestRegressor\n",
    "from sklearn.tree import DecisionTreeRegressor\n",
    "from sklearn.neural_network import MLPRegressor\n",
    "from sklearn.metrics import mean_squared_error,r2_score\n",
    "from sklearn.model_selection import GridSearchCV\n",
    "from sklearn.base import BaseEstimator, TransformerMixin\n",
    "from sklearn.preprocessing import QuantileTransformer, label_binarize, Binarizer"
   ]
  },
  {
   "cell_type": "markdown",
   "metadata": {},
   "source": [
    "### Framing the Problem"
   ]
  },
  {
   "cell_type": "code",
   "execution_count": 31,
   "metadata": {
    "ExecuteTime": {
     "end_time": "2019-10-31T23:36:28.657068Z",
     "start_time": "2019-10-31T23:36:28.654650Z"
    },
    "scrolled": false
   },
   "outputs": [
    {
     "name": "stderr",
     "output_type": "stream",
     "text": [
      "/Users/nick/opt/anaconda3/envs/dsc80/lib/python3.8/site-packages/IPython/core/interactiveshell.py:3460: DtypeWarning: Columns (2) have mixed types.Specify dtype option on import or set low_memory=False.\n",
      "  exec(code_obj, self.user_global_ns, self.user_ns)\n"
     ]
    },
    {
     "data": {
      "text/html": [
       "<div>\n",
       "<style scoped>\n",
       "    .dataframe tbody tr th:only-of-type {\n",
       "        vertical-align: middle;\n",
       "    }\n",
       "\n",
       "    .dataframe tbody tr th {\n",
       "        vertical-align: top;\n",
       "    }\n",
       "\n",
       "    .dataframe thead th {\n",
       "        text-align: right;\n",
       "    }\n",
       "</style>\n",
       "<table border=\"1\" class=\"dataframe\">\n",
       "  <thead>\n",
       "    <tr style=\"text-align: right;\">\n",
       "      <th></th>\n",
       "      <th>gameid</th>\n",
       "      <th>datacompleteness</th>\n",
       "      <th>url</th>\n",
       "      <th>league</th>\n",
       "      <th>year</th>\n",
       "      <th>split</th>\n",
       "      <th>playoffs</th>\n",
       "      <th>date</th>\n",
       "      <th>game</th>\n",
       "      <th>patch</th>\n",
       "      <th>...</th>\n",
       "      <th>opp_csat15</th>\n",
       "      <th>golddiffat15</th>\n",
       "      <th>xpdiffat15</th>\n",
       "      <th>csdiffat15</th>\n",
       "      <th>killsat15</th>\n",
       "      <th>assistsat15</th>\n",
       "      <th>deathsat15</th>\n",
       "      <th>opp_killsat15</th>\n",
       "      <th>opp_assistsat15</th>\n",
       "      <th>opp_deathsat15</th>\n",
       "    </tr>\n",
       "  </thead>\n",
       "  <tbody>\n",
       "    <tr>\n",
       "      <th>0</th>\n",
       "      <td>ESPORTSTMNT01_2690210</td>\n",
       "      <td>complete</td>\n",
       "      <td>NaN</td>\n",
       "      <td>LCK CL</td>\n",
       "      <td>2022</td>\n",
       "      <td>Spring</td>\n",
       "      <td>0</td>\n",
       "      <td>2022-01-10 07:44:08</td>\n",
       "      <td>1</td>\n",
       "      <td>12.01</td>\n",
       "      <td>...</td>\n",
       "      <td>121.0</td>\n",
       "      <td>391.0</td>\n",
       "      <td>345.0</td>\n",
       "      <td>14.0</td>\n",
       "      <td>0.0</td>\n",
       "      <td>1.0</td>\n",
       "      <td>0.0</td>\n",
       "      <td>0.0</td>\n",
       "      <td>1.0</td>\n",
       "      <td>0.0</td>\n",
       "    </tr>\n",
       "    <tr>\n",
       "      <th>1</th>\n",
       "      <td>ESPORTSTMNT01_2690210</td>\n",
       "      <td>complete</td>\n",
       "      <td>NaN</td>\n",
       "      <td>LCK CL</td>\n",
       "      <td>2022</td>\n",
       "      <td>Spring</td>\n",
       "      <td>0</td>\n",
       "      <td>2022-01-10 07:44:08</td>\n",
       "      <td>1</td>\n",
       "      <td>12.01</td>\n",
       "      <td>...</td>\n",
       "      <td>100.0</td>\n",
       "      <td>541.0</td>\n",
       "      <td>-275.0</td>\n",
       "      <td>-11.0</td>\n",
       "      <td>2.0</td>\n",
       "      <td>3.0</td>\n",
       "      <td>2.0</td>\n",
       "      <td>0.0</td>\n",
       "      <td>5.0</td>\n",
       "      <td>1.0</td>\n",
       "    </tr>\n",
       "    <tr>\n",
       "      <th>2</th>\n",
       "      <td>ESPORTSTMNT01_2690210</td>\n",
       "      <td>complete</td>\n",
       "      <td>NaN</td>\n",
       "      <td>LCK CL</td>\n",
       "      <td>2022</td>\n",
       "      <td>Spring</td>\n",
       "      <td>0</td>\n",
       "      <td>2022-01-10 07:44:08</td>\n",
       "      <td>1</td>\n",
       "      <td>12.01</td>\n",
       "      <td>...</td>\n",
       "      <td>119.0</td>\n",
       "      <td>-475.0</td>\n",
       "      <td>153.0</td>\n",
       "      <td>1.0</td>\n",
       "      <td>0.0</td>\n",
       "      <td>3.0</td>\n",
       "      <td>0.0</td>\n",
       "      <td>3.0</td>\n",
       "      <td>3.0</td>\n",
       "      <td>2.0</td>\n",
       "    </tr>\n",
       "    <tr>\n",
       "      <th>3</th>\n",
       "      <td>ESPORTSTMNT01_2690210</td>\n",
       "      <td>complete</td>\n",
       "      <td>NaN</td>\n",
       "      <td>LCK CL</td>\n",
       "      <td>2022</td>\n",
       "      <td>Spring</td>\n",
       "      <td>0</td>\n",
       "      <td>2022-01-10 07:44:08</td>\n",
       "      <td>1</td>\n",
       "      <td>12.01</td>\n",
       "      <td>...</td>\n",
       "      <td>149.0</td>\n",
       "      <td>-793.0</td>\n",
       "      <td>-1343.0</td>\n",
       "      <td>-34.0</td>\n",
       "      <td>2.0</td>\n",
       "      <td>1.0</td>\n",
       "      <td>2.0</td>\n",
       "      <td>3.0</td>\n",
       "      <td>3.0</td>\n",
       "      <td>0.0</td>\n",
       "    </tr>\n",
       "    <tr>\n",
       "      <th>4</th>\n",
       "      <td>ESPORTSTMNT01_2690210</td>\n",
       "      <td>complete</td>\n",
       "      <td>NaN</td>\n",
       "      <td>LCK CL</td>\n",
       "      <td>2022</td>\n",
       "      <td>Spring</td>\n",
       "      <td>0</td>\n",
       "      <td>2022-01-10 07:44:08</td>\n",
       "      <td>1</td>\n",
       "      <td>12.01</td>\n",
       "      <td>...</td>\n",
       "      <td>21.0</td>\n",
       "      <td>443.0</td>\n",
       "      <td>-497.0</td>\n",
       "      <td>7.0</td>\n",
       "      <td>1.0</td>\n",
       "      <td>2.0</td>\n",
       "      <td>2.0</td>\n",
       "      <td>0.0</td>\n",
       "      <td>6.0</td>\n",
       "      <td>2.0</td>\n",
       "    </tr>\n",
       "  </tbody>\n",
       "</table>\n",
       "<p>5 rows × 123 columns</p>\n",
       "</div>"
      ],
      "text/plain": [
       "                  gameid datacompleteness  url  league  year   split  \\\n",
       "0  ESPORTSTMNT01_2690210         complete  NaN  LCK CL  2022  Spring   \n",
       "1  ESPORTSTMNT01_2690210         complete  NaN  LCK CL  2022  Spring   \n",
       "2  ESPORTSTMNT01_2690210         complete  NaN  LCK CL  2022  Spring   \n",
       "3  ESPORTSTMNT01_2690210         complete  NaN  LCK CL  2022  Spring   \n",
       "4  ESPORTSTMNT01_2690210         complete  NaN  LCK CL  2022  Spring   \n",
       "\n",
       "   playoffs                 date  game  patch  ...  opp_csat15 golddiffat15  \\\n",
       "0         0  2022-01-10 07:44:08     1  12.01  ...       121.0        391.0   \n",
       "1         0  2022-01-10 07:44:08     1  12.01  ...       100.0        541.0   \n",
       "2         0  2022-01-10 07:44:08     1  12.01  ...       119.0       -475.0   \n",
       "3         0  2022-01-10 07:44:08     1  12.01  ...       149.0       -793.0   \n",
       "4         0  2022-01-10 07:44:08     1  12.01  ...        21.0        443.0   \n",
       "\n",
       "  xpdiffat15 csdiffat15 killsat15 assistsat15 deathsat15 opp_killsat15  \\\n",
       "0      345.0       14.0       0.0         1.0        0.0           0.0   \n",
       "1     -275.0      -11.0       2.0         3.0        2.0           0.0   \n",
       "2      153.0        1.0       0.0         3.0        0.0           3.0   \n",
       "3    -1343.0      -34.0       2.0         1.0        2.0           3.0   \n",
       "4     -497.0        7.0       1.0         2.0        2.0           0.0   \n",
       "\n",
       "  opp_assistsat15 opp_deathsat15  \n",
       "0             1.0            0.0  \n",
       "1             5.0            1.0  \n",
       "2             3.0            2.0  \n",
       "3             3.0            0.0  \n",
       "4             6.0            2.0  \n",
       "\n",
       "[5 rows x 123 columns]"
      ]
     },
     "execution_count": 31,
     "metadata": {},
     "output_type": "execute_result"
    }
   ],
   "source": [
    "df = pd.read_csv(os.path.join('data', '2022_matches.csv'))\n",
    "df.head()"
   ]
  },
  {
   "cell_type": "code",
   "execution_count": 335,
   "metadata": {},
   "outputs": [
    {
     "name": "stdout",
     "output_type": "stream",
     "text": [
      "| gameid                | league   |   year |   playoffs |   game |   patch |   gamelength |   result |   kills |   deaths |   assists |   teamkills |   teamdeaths |   doublekills |   triplekills |   quadrakills |   pentakills |   firstblood |   team kpm |   ckpm |   firstdragon |   dragons |   opp_dragons |   infernals |   mountains |   clouds |   oceans |   elders |   opp_elders |   firstherald |   heralds |   opp_heralds |   firstbaron |   barons |   opp_barons |   firsttower |   towers |   opp_towers |   firsttothreetowers |   inhibitors |   opp_inhibitors |   damagetochampions |     dpm |   damagetakenperminute |   damagemitigatedperminute |   wardsplaced |     wpm |   wardskilled |    wcpm |   controlwardsbought |   visionscore |    vspm |   totalgold |   earnedgold |   earned gpm |   goldspent |   gspd |   minionkills |   monsterkills |    cspm |   goldat10 |   xpat10 |   csat10 |   opp_goldat10 |   opp_xpat10 |   opp_csat10 |   golddiffat10 |   xpdiffat10 |   csdiffat10 |   killsat10 |   assistsat10 |   deathsat10 |   opp_killsat10 |   opp_assistsat10 |   opp_deathsat10 |   goldat15 |   xpat15 |   csat15 |   opp_goldat15 |   opp_xpat15 |   opp_csat15 |   golddiffat15 |   xpdiffat15 |   csdiffat15 |   killsat15 |   assistsat15 |   deathsat15 |   opp_killsat15 |   opp_assistsat15 |   opp_deathsat15 |\n",
      "|:----------------------|:---------|-------:|-----------:|-------:|--------:|-------------:|---------:|--------:|---------:|----------:|------------:|-------------:|--------------:|--------------:|--------------:|-------------:|-------------:|-----------:|-------:|--------------:|----------:|--------------:|------------:|------------:|---------:|---------:|---------:|-------------:|--------------:|----------:|--------------:|-------------:|---------:|-------------:|-------------:|---------:|-------------:|---------------------:|-------------:|-----------------:|--------------------:|--------:|-----------------------:|---------------------------:|--------------:|--------:|--------------:|--------:|---------------------:|--------------:|--------:|------------:|-------------:|-------------:|------------:|-------:|--------------:|---------------:|--------:|-----------:|---------:|---------:|---------------:|-------------:|-------------:|---------------:|-------------:|-------------:|------------:|--------------:|-------------:|----------------:|------------------:|-----------------:|-----------:|---------:|---------:|---------------:|-------------:|-------------:|---------------:|-------------:|-------------:|------------:|--------------:|-------------:|----------------:|------------------:|-----------------:|\n",
      "| ESPORTSTMNT01_2690210 | LCK CL   |   2022 |          0 |      1 |   12.01 |         1713 |      0.5 |    14   |     14   |      40.5 |        14   |         14   |           3   |           0   |             0 |            0 |          0.5 |    0.49035 | 0.9807 |           0.5 |       2   |           2   |           1 |         0.5 |      0   |      0   |      0   |          0   |           0.5 |         1 |             1 |          0   |      0   |          0   |          0.5 |      4.5 |          4.5 |                  0.5 |          0.5 |              0.5 |             68236   | 2390.05 |                3273.43 |                    2618.53 |          83.5 | 2.92465 |          51   | 1.7863  |                 39   |         201   | 7.0403  |     49843.5 |      30995.5 |      1085.66 |     45210   |      0 |         736   |          172   | 31.8039 |    15456.5 |  18144.5 |    326   |        15456.5 |      18144.5 |        326   |              0 |            0 |            0 |         1.5 |           2.5 |          1.5 |             1.5 |               2.5 |              1.5 |    24752.5 |  28809.5 |    498.5 |        24752.5 |      28809.5 |        498.5 |              0 |            0 |            0 |         5.5 |          14   |          5.5 |             5.5 |              14   |              5.5 |\n",
      "| ESPORTSTMNT01_2690219 | LCK CL   |   2022 |          0 |      1 |   12.01 |         2114 |      0.5 |     9.5 |      9.5 |      23   |         9.5 |          9.5 |           0.5 |           0   |             0 |            0 |          0.5 |    0.2696  | 0.5393 |           0.5 |       2.5 |           2.5 |           0 |         1.5 |      0.5 |      0   |      0   |          0   |           0.5 |         1 |             1 |          0.5 |      1   |          1   |          0.5 |      7   |          7   |                  0.5 |          1   |              1   |             67217   | 1907.77 |                2864.87 |                    2989.02 |         124   | 3.5194  |          62.5 | 1.7739  |                 56   |         311.5 | 8.84105 |     64316.5 |      41375.5 |      1174.33 |     60177.5 |      0 |        1003.5 |          229.5 | 34.9952 |    15748.5 |  18255   |    330.5 |        15748.5 |      18255   |        330.5 |              0 |            0 |            0 |         2   |           2   |          2   |             2   |               2   |              2   |    24403.5 |  29301   |    544   |        24403.5 |      29301   |        544   |              0 |            0 |            0 |         2   |           2   |          2   |             2   |               2   |              2   |\n",
      "| ESPORTSTMNT01_2690227 | LCK CL   |   2022 |          0 |      1 |   12.01 |         1972 |      0.5 |     9.5 |      9.5 |      26.5 |         9.5 |          9.5 |           1.5 |           0.5 |             0 |            0 |          0.5 |    0.28905 | 0.5781 |           0.5 |       2.5 |           2.5 |           0 |         0.5 |      0   |      0.5 |      0   |          0   |           0.5 |         1 |             1 |          0.5 |      0.5 |          0.5 |          0.5 |      6.5 |          6.5 |                  0.5 |          1   |              1   |             56748   | 1726.61 |                2487.6  |                    1866.8  |         110   | 3.34685 |          52.5 | 1.59735 |                 56.5 |         251.5 | 7.65215 |     57522.5 |      36026.5 |      1096.14 |     53207.5 |      0 |         890   |          229   | 34.0466 |    15517.5 |  19193.5 |    361.5 |        15517.5 |      19193.5 |        361.5 |              0 |            0 |            0 |         0.5 |           0.5 |          0.5 |             0.5 |               0.5 |              0.5 |    24199.5 |  30193   |    552.5 |        24199.5 |      30193   |        552.5 |              0 |            0 |            0 |         2   |           4.5 |          2   |             2   |               4.5 |              2   |\n",
      "| ESPORTSTMNT01_2690255 | LCK CL   |   2022 |          0 |      1 |   12.01 |         2488 |      0.5 |    14.5 |     14.5 |      33.5 |        14.5 |         14.5 |           2   |           0.5 |             0 |            0 |          0.5 |    0.3497  | 0.6994 |           0.5 |       3   |           3   |           0 |         0   |      0.5 |      0   |      0.5 |          0.5 |           0.5 |         1 |             1 |          0.5 |      1   |          1   |          0.5 |      7   |          7   |                  0.5 |          0.5 |              0.5 |             63088.5 | 1521.43 |                2392.72 |                    2106.66 |         159.5 | 3.8465  |          82   | 1.9775  |                 59   |         338.5 | 8.1632  |     74299   |      47539   |      1146.44 |     70375   |      0 |        1078.5 |          271.5 | 32.5563 |    15809.5 |  17971.5 |    315.5 |        15809.5 |      17971.5 |        315.5 |              0 |            0 |            0 |         3   |           8   |          3   |             3   |               8   |              3   |    24138   |  29706.5 |    537   |        24138   |      29706.5 |        537   |              0 |            0 |            0 |         3   |           8   |          3   |             3   |               8   |              3   |\n",
      "| ESPORTSTMNT01_2690264 | LCK CL   |   2022 |          0 |      1 |   12.01 |         2020 |      0.5 |    10.5 |     10.5 |      25.5 |        10.5 |         10.5 |           1.5 |           0   |             0 |            0 |          0.5 |    0.31185 | 0.6238 |           0.5 |       2.5 |           2.5 |           0 |         0.5 |      1   |      0.5 |      0.5 |          0.5 |           0.5 |         1 |             1 |          0.5 |      0.5 |          0.5 |          0.5 |      6   |          6   |                  0.5 |          1.5 |              1.5 |             51717   | 1536.15 |                2278.93 |                    1804.6  |          97.5 | 2.89605 |          51   | 1.51485 |                 46.5 |         245   | 7.27725 |     59128.5 |      37145.5 |      1103.33 |     55005   |      0 |         889   |          200   | 32.3466 |    15796.5 |  18629.5 |    337.5 |        15796.5 |      18629.5 |        337.5 |              0 |            0 |            0 |         1   |           1   |          1   |             1   |               1   |              1   |    25252   |  30182   |    538.5 |        25252   |      30182   |        538.5 |              0 |            0 |            0 |         3   |           5   |          3   |             3   |               5   |              3   |\n"
     ]
    }
   ],
   "source": [
    "print(cleaned.head().to_markdown(index=False))"
   ]
  },
  {
   "cell_type": "code",
   "execution_count": 310,
   "metadata": {
    "scrolled": false
   },
   "outputs": [
    {
     "data": {
      "text/html": [
       "<div>\n",
       "<style scoped>\n",
       "    .dataframe tbody tr th:only-of-type {\n",
       "        vertical-align: middle;\n",
       "    }\n",
       "\n",
       "    .dataframe tbody tr th {\n",
       "        vertical-align: top;\n",
       "    }\n",
       "\n",
       "    .dataframe thead th {\n",
       "        text-align: right;\n",
       "    }\n",
       "</style>\n",
       "<table border=\"1\" class=\"dataframe\">\n",
       "  <thead>\n",
       "    <tr style=\"text-align: right;\">\n",
       "      <th></th>\n",
       "      <th>gameid</th>\n",
       "      <th>league</th>\n",
       "      <th>year</th>\n",
       "      <th>playoffs</th>\n",
       "      <th>game</th>\n",
       "      <th>patch</th>\n",
       "      <th>gamelength</th>\n",
       "      <th>result</th>\n",
       "      <th>kills</th>\n",
       "      <th>deaths</th>\n",
       "      <th>...</th>\n",
       "      <th>opp_csat15</th>\n",
       "      <th>golddiffat15</th>\n",
       "      <th>xpdiffat15</th>\n",
       "      <th>csdiffat15</th>\n",
       "      <th>killsat15</th>\n",
       "      <th>assistsat15</th>\n",
       "      <th>deathsat15</th>\n",
       "      <th>opp_killsat15</th>\n",
       "      <th>opp_assistsat15</th>\n",
       "      <th>opp_deathsat15</th>\n",
       "    </tr>\n",
       "  </thead>\n",
       "  <tbody>\n",
       "    <tr>\n",
       "      <th>0</th>\n",
       "      <td>ESPORTSTMNT01_2690210</td>\n",
       "      <td>LCK CL</td>\n",
       "      <td>2022.0</td>\n",
       "      <td>0.0</td>\n",
       "      <td>1.0</td>\n",
       "      <td>12.01</td>\n",
       "      <td>1713.0</td>\n",
       "      <td>0.5</td>\n",
       "      <td>14.0</td>\n",
       "      <td>14.0</td>\n",
       "      <td>...</td>\n",
       "      <td>498.5</td>\n",
       "      <td>0.0</td>\n",
       "      <td>0.0</td>\n",
       "      <td>0.0</td>\n",
       "      <td>5.5</td>\n",
       "      <td>14.0</td>\n",
       "      <td>5.5</td>\n",
       "      <td>5.5</td>\n",
       "      <td>14.0</td>\n",
       "      <td>5.5</td>\n",
       "    </tr>\n",
       "    <tr>\n",
       "      <th>1</th>\n",
       "      <td>ESPORTSTMNT01_2690219</td>\n",
       "      <td>LCK CL</td>\n",
       "      <td>2022.0</td>\n",
       "      <td>0.0</td>\n",
       "      <td>1.0</td>\n",
       "      <td>12.01</td>\n",
       "      <td>2114.0</td>\n",
       "      <td>0.5</td>\n",
       "      <td>9.5</td>\n",
       "      <td>9.5</td>\n",
       "      <td>...</td>\n",
       "      <td>544.0</td>\n",
       "      <td>0.0</td>\n",
       "      <td>0.0</td>\n",
       "      <td>0.0</td>\n",
       "      <td>2.0</td>\n",
       "      <td>2.0</td>\n",
       "      <td>2.0</td>\n",
       "      <td>2.0</td>\n",
       "      <td>2.0</td>\n",
       "      <td>2.0</td>\n",
       "    </tr>\n",
       "    <tr>\n",
       "      <th>2</th>\n",
       "      <td>ESPORTSTMNT01_2690227</td>\n",
       "      <td>LCK CL</td>\n",
       "      <td>2022.0</td>\n",
       "      <td>0.0</td>\n",
       "      <td>1.0</td>\n",
       "      <td>12.01</td>\n",
       "      <td>1972.0</td>\n",
       "      <td>0.5</td>\n",
       "      <td>9.5</td>\n",
       "      <td>9.5</td>\n",
       "      <td>...</td>\n",
       "      <td>552.5</td>\n",
       "      <td>0.0</td>\n",
       "      <td>0.0</td>\n",
       "      <td>0.0</td>\n",
       "      <td>2.0</td>\n",
       "      <td>4.5</td>\n",
       "      <td>2.0</td>\n",
       "      <td>2.0</td>\n",
       "      <td>4.5</td>\n",
       "      <td>2.0</td>\n",
       "    </tr>\n",
       "    <tr>\n",
       "      <th>3</th>\n",
       "      <td>ESPORTSTMNT01_2690255</td>\n",
       "      <td>LCK CL</td>\n",
       "      <td>2022.0</td>\n",
       "      <td>0.0</td>\n",
       "      <td>1.0</td>\n",
       "      <td>12.01</td>\n",
       "      <td>2488.0</td>\n",
       "      <td>0.5</td>\n",
       "      <td>14.5</td>\n",
       "      <td>14.5</td>\n",
       "      <td>...</td>\n",
       "      <td>537.0</td>\n",
       "      <td>0.0</td>\n",
       "      <td>0.0</td>\n",
       "      <td>0.0</td>\n",
       "      <td>3.0</td>\n",
       "      <td>8.0</td>\n",
       "      <td>3.0</td>\n",
       "      <td>3.0</td>\n",
       "      <td>8.0</td>\n",
       "      <td>3.0</td>\n",
       "    </tr>\n",
       "    <tr>\n",
       "      <th>4</th>\n",
       "      <td>ESPORTSTMNT01_2690264</td>\n",
       "      <td>LCK CL</td>\n",
       "      <td>2022.0</td>\n",
       "      <td>0.0</td>\n",
       "      <td>1.0</td>\n",
       "      <td>12.01</td>\n",
       "      <td>2020.0</td>\n",
       "      <td>0.5</td>\n",
       "      <td>10.5</td>\n",
       "      <td>10.5</td>\n",
       "      <td>...</td>\n",
       "      <td>538.5</td>\n",
       "      <td>0.0</td>\n",
       "      <td>0.0</td>\n",
       "      <td>0.0</td>\n",
       "      <td>3.0</td>\n",
       "      <td>5.0</td>\n",
       "      <td>3.0</td>\n",
       "      <td>3.0</td>\n",
       "      <td>5.0</td>\n",
       "      <td>3.0</td>\n",
       "    </tr>\n",
       "  </tbody>\n",
       "</table>\n",
       "<p>5 rows × 90 columns</p>\n",
       "</div>"
      ],
      "text/plain": [
       "                  gameid  league    year  playoffs  game  patch  gamelength  \\\n",
       "0  ESPORTSTMNT01_2690210  LCK CL  2022.0       0.0   1.0  12.01      1713.0   \n",
       "1  ESPORTSTMNT01_2690219  LCK CL  2022.0       0.0   1.0  12.01      2114.0   \n",
       "2  ESPORTSTMNT01_2690227  LCK CL  2022.0       0.0   1.0  12.01      1972.0   \n",
       "3  ESPORTSTMNT01_2690255  LCK CL  2022.0       0.0   1.0  12.01      2488.0   \n",
       "4  ESPORTSTMNT01_2690264  LCK CL  2022.0       0.0   1.0  12.01      2020.0   \n",
       "\n",
       "   result  kills  deaths  ...  opp_csat15  golddiffat15  xpdiffat15  \\\n",
       "0     0.5   14.0    14.0  ...       498.5           0.0         0.0   \n",
       "1     0.5    9.5     9.5  ...       544.0           0.0         0.0   \n",
       "2     0.5    9.5     9.5  ...       552.5           0.0         0.0   \n",
       "3     0.5   14.5    14.5  ...       537.0           0.0         0.0   \n",
       "4     0.5   10.5    10.5  ...       538.5           0.0         0.0   \n",
       "\n",
       "   csdiffat15  killsat15  assistsat15  deathsat15  opp_killsat15  \\\n",
       "0         0.0        5.5         14.0         5.5            5.5   \n",
       "1         0.0        2.0          2.0         2.0            2.0   \n",
       "2         0.0        2.0          4.5         2.0            2.0   \n",
       "3         0.0        3.0          8.0         3.0            3.0   \n",
       "4         0.0        3.0          5.0         3.0            3.0   \n",
       "\n",
       "   opp_assistsat15  opp_deathsat15  \n",
       "0             14.0             5.5  \n",
       "1              2.0             2.0  \n",
       "2              4.5             2.0  \n",
       "3              8.0             3.0  \n",
       "4              5.0             3.0  \n",
       "\n",
       "[5 rows x 90 columns]"
      ]
     },
     "execution_count": 310,
     "metadata": {},
     "output_type": "execute_result"
    }
   ],
   "source": [
    "#remove all columns and rows that have nans and select team columns\n",
    "newdf = df[df[\"datacompleteness\"] == \"complete\"]\n",
    "newdf = newdf[newdf[\"position\"] == \"team\"]\n",
    "newdf = newdf.dropna(axis='columns')\n",
    "newdf = newdf.drop(['participantid','position', 'side', 'datacompleteness'], axis = 1)\n",
    "cleaned = newdf.groupby(['gameid', 'league']).mean().reset_index()\n",
    "cleaned.head()"
   ]
  },
  {
   "cell_type": "code",
   "execution_count": 259,
   "metadata": {},
   "outputs": [],
   "source": [
    "#TRAIN-TEST SPLIT\n",
    "X = cleaned.drop('gamelength', axis = 1)\n",
    "y = cleaned['gamelength']\n",
    "X_train, X_test, y_train, y_test = train_test_split(X, y, test_size=0.25)"
   ]
  },
  {
   "cell_type": "markdown",
   "metadata": {},
   "source": [
    "### Baseline Model"
   ]
  },
  {
   "cell_type": "code",
   "execution_count": 314,
   "metadata": {
    "ExecuteTime": {
     "end_time": "2019-10-31T23:36:28.662099Z",
     "start_time": "2019-10-31T23:36:28.660016Z"
    }
   },
   "outputs": [
    {
     "data": {
      "text/plain": [
       "(0.9354008998515442, 84.83291987751124)"
      ]
     },
     "execution_count": 314,
     "metadata": {},
     "output_type": "execute_result"
    }
   ],
   "source": [
    "def baseline_pipeline(X_train, y_train):\n",
    "\n",
    "    categorical_transformer = Pipeline(steps=[\n",
    "        ('onehot', OneHotEncoder())\n",
    "    ])\n",
    "\n",
    "    preprocessor = ColumnTransformer(\n",
    "        transformers=[\n",
    "        ('cat', categorical_transformer,['league'])\n",
    "    ], remainder='passthrough')\n",
    "\n",
    "    pipeline = Pipeline(steps=[\n",
    "        ('preprocessor', preprocessor),\n",
    "        ('regressor', LinearRegression())\n",
    "    ])\n",
    "\n",
    "\n",
    "    X = X_train[['league', 'goldspent']]\n",
    "    y = y_train\n",
    "\n",
    "\n",
    "\n",
    "    return pipeline.fit(X, y)\n",
    "basepipeline = baseline_pipeline(X_train, y_train)\n",
    "basepreds = basepipeline.predict(X_test)\n",
    "basermse = mean_squared_error(y_test, basepreds, squared=False)\n",
    "baser2 = basepipeline.score(X_test, y_test)\n",
    "baser2, basermse"
   ]
  },
  {
   "cell_type": "markdown",
   "metadata": {},
   "source": [
    "### Final Model"
   ]
  },
  {
   "cell_type": "code",
   "execution_count": 265,
   "metadata": {},
   "outputs": [],
   "source": [
    "class StdScalerByGroup(BaseEstimator, TransformerMixin):\n",
    "    # performs group-wise standardization.\n",
    "\n",
    "    def __init__(self):\n",
    "        pass\n",
    "\n",
    "    def fit(self, X, y=None):\n",
    "        # X might not be a pandas DataFrame (e.g. a np.array)\n",
    "        df = pd.DataFrame(X)\n",
    "\n",
    "        # Compute and store the means/standard-deviations for each column (e.g. 'c1' and 'c2'), \n",
    "        # for each group (e.g. 'A', 'B', 'C').  \n",
    "        # (Our solution uses a dictionary)\n",
    "        stds = X.groupby(X[X.columns[0]]).std()\n",
    "        means = X.groupby(X[X.columns[0]]).mean()\n",
    "        self.grps_ = (means.to_dict(), stds.to_dict())\n",
    "\n",
    "\n",
    "        return self\n",
    "\n",
    "    def transform(self, X, y=None):\n",
    "\n",
    "        try:\n",
    "            getattr(self, \"grps_\")\n",
    "        except AttributeError:\n",
    "            raise RuntimeError(\"You must fit the transformer before tranforming the data!\")\n",
    "        \n",
    "        lol = pd.DataFrame()\n",
    "        df = pd.DataFrame(X)\n",
    "        data = df.copy()\n",
    "        dic = self.grps_\n",
    "        for g in data.iloc[:, 0].unique():\n",
    "            new = data[data.iloc[:, 0] == g].iloc[:, 1:].apply(lambda x: (x-dic[0][x.name][g])/dic[1][x.name][g])\n",
    "            old_ind = new.index\n",
    "            new = new.set_index([old_ind, [g]*len(new)])\n",
    "            lol = pd.concat([lol, new], axis = 0)\n",
    "        lol = lol.sort_index()\n",
    "        return lol"
   ]
  },
  {
   "cell_type": "code",
   "execution_count": 266,
   "metadata": {},
   "outputs": [],
   "source": [
    "def final_pipeline(X_train, y_train, model):\n",
    "\n",
    "    categorical_transformer = Pipeline(steps=[\n",
    "        ('onehot', OneHotEncoder(sparse = False))\n",
    "    ])\n",
    "\n",
    "    preprocessor = ColumnTransformer(\n",
    "        transformers=[\n",
    "        ('cat', categorical_transformer, ['league']),\n",
    "        ('std-group', StdScalerByGroup(), ['monsterkills']),\n",
    "        ('quant', QuantileTransformer(), ['damagetochampions'])\n",
    "    ], remainder='passthrough')\n",
    "\n",
    "    pipeline = Pipeline(steps=[\n",
    "        ('preprocessor', preprocessor),\n",
    "        ('regressor', model)\n",
    "    ])\n",
    "\n",
    "\n",
    "    X = X_train[['patch','league', 'goldspent', 'monsterkills', 'damagetochampions']]\n",
    "    y = y_train\n",
    "\n",
    "\n",
    "\n",
    "    return pipeline.fit(X, y)"
   ]
  },
  {
   "cell_type": "code",
   "execution_count": 313,
   "metadata": {},
   "outputs": [
    {
     "data": {
      "text/plain": [
       "(0.9364469625245184, 84.14326060715081)"
      ]
     },
     "execution_count": 313,
     "metadata": {},
     "output_type": "execute_result"
    }
   ],
   "source": [
    "finalpipeline = final_pipeline(X_train, y_train, LinearRegression())\n",
    "finpreds = finalpipeline.predict(X_test)\n",
    "finrmse = mean_squared_error(y_test, finpreds, squared=False)\n",
    "finr2 = finalpipeline.score(X_test, y_test)\n",
    "finrmse = mean_squared_error(finalpipeline.predict(X_test), y_test, squared=False)\n",
    "finr2, finrmse"
   ]
  },
  {
   "cell_type": "code",
   "execution_count": 279,
   "metadata": {},
   "outputs": [],
   "source": [
    "# Choosing the best model\n",
    "regressors = [\n",
    "    GradientBoostingRegressor(),\n",
    "    KNeighborsRegressor(),\n",
    "    ExtraTreesRegressor(),\n",
    "    RandomForestRegressor(),\n",
    "    DecisionTreeRegressor(),\n",
    "    LinearRegression(),\n",
    "    Lasso(),\n",
    "    Ridge(),\n",
    "    MLPRegressor()\n",
    "]"
   ]
  },
  {
   "cell_type": "code",
   "execution_count": 336,
   "metadata": {},
   "outputs": [
    {
     "name": "stdout",
     "output_type": "stream",
     "text": [
      "GradientBoostingRegressor()\n",
      "R2 score: 0.9361511035346678\n",
      "RMSE score: 84.33888960756258\n",
      "\n",
      "KNeighborsRegressor()\n",
      "R2 score: 0.9195096912368506\n",
      "RMSE score: 94.69411243746968\n",
      "\n",
      "ExtraTreesRegressor()\n",
      "R2 score: 0.9247372252574966\n",
      "RMSE score: 91.5674866685892\n",
      "\n",
      "RandomForestRegressor()\n",
      "R2 score: 0.9293604036052424\n",
      "RMSE score: 88.71055282906973\n",
      "\n",
      "DecisionTreeRegressor()\n",
      "R2 score: 0.873848300425188\n",
      "RMSE score: 118.54895609234104\n",
      "\n",
      "LinearRegression()\n",
      "R2 score: 0.9364469625245184\n",
      "RMSE score: 84.14326060715081\n",
      "\n",
      "Lasso()\n",
      "R2 score: 0.9343451657121927\n",
      "RMSE score: 85.52331686879154\n",
      "\n",
      "Ridge()\n",
      "R2 score: 0.9364678880044545\n",
      "RMSE score: 84.12940695718684\n",
      "\n",
      "MLPRegressor()\n",
      "R2 score: 0.9219613989159879\n",
      "RMSE score: 93.24078450911317\n",
      "\n"
     ]
    }
   ],
   "source": [
    "for model in regressors:\n",
    "    mdl = final_pipeline(X_train, y_train, model)\n",
    "    y_pred = mdl.predict(X_test) \n",
    "    print(model)\n",
    "    print(\"R2 score:\", r2_score(y_test, y_pred))\n",
    "    print(\"RMSE score:\", mean_squared_error(y_test, y_pred, squared=False))\n",
    "    print()"
   ]
  },
  {
   "cell_type": "code",
   "execution_count": 253,
   "metadata": {},
   "outputs": [],
   "source": [
    "#Finding best hyperparameters/model"
   ]
  },
  {
   "cell_type": "code",
   "execution_count": 250,
   "metadata": {},
   "outputs": [],
   "source": [
    "parameters = {'regressor__learning_rate': [0.01,0.02,0.03,0.04],\n",
    "              'regressor__subsample'    : [0.9, 0.5, 0.2, 0.1],\n",
    "              'regressor__n_estimators' : [100,500,1000, 1500],\n",
    "              'regressor__max_depth'    : [4,6,8,10]\n",
    "             }"
   ]
  },
  {
   "cell_type": "code",
   "execution_count": 251,
   "metadata": {},
   "outputs": [
    {
     "data": {
      "text/plain": [
       "GridSearchCV(cv=2,\n",
       "             estimator=Pipeline(steps=[('preprocessor',\n",
       "                                        ColumnTransformer(remainder='passthrough',\n",
       "                                                          transformers=[('cat',\n",
       "                                                                         Pipeline(steps=[('onehot',\n",
       "                                                                                          OneHotEncoder(sparse=False))]),\n",
       "                                                                         ['league']),\n",
       "                                                                        ('std-group',\n",
       "                                                                         StdScalerByGroup(),\n",
       "                                                                         ['monsterkills']),\n",
       "                                                                        ('quant',\n",
       "                                                                         QuantileTransformer(),\n",
       "                                                                         ['damagetochampions'])])),\n",
       "                                       ('regressor',\n",
       "                                        GradientBoostingRegressor())]),\n",
       "             n_jobs=-1,\n",
       "             param_grid={'regressor__learning_rate': [0.01, 0.02, 0.03, 0.04],\n",
       "                         'regressor__max_depth': [4, 6, 8, 10],\n",
       "                         'regressor__n_estimators': [100, 500, 1000, 1500],\n",
       "                         'regressor__subsample': [0.9, 0.5, 0.2, 0.1]})"
      ]
     },
     "execution_count": 251,
     "metadata": {},
     "output_type": "execute_result"
    }
   ],
   "source": [
    "grid_GBR = GridSearchCV(estimator=final_pipeline(X_train, y_train, GradientBoostingRegressor()), param_grid = parameters, cv = 2, n_jobs=-1)\n",
    "grid_GBR.fit(X_train, y_train)\n"
   ]
  },
  {
   "cell_type": "code",
   "execution_count": 274,
   "metadata": {},
   "outputs": [],
   "source": [
    "parameters = {'regressor__fit_intercept':[True,False],\n",
    "              'regressor__normalize':[True,False],\n",
    "              'regressor__copy_X':[True, False]}"
   ]
  },
  {
   "cell_type": "code",
   "execution_count": 275,
   "metadata": {
    "scrolled": true
   },
   "outputs": [
    {
     "name": "stderr",
     "output_type": "stream",
     "text": [
      "/Users/nick/opt/anaconda3/envs/dsc80/lib/python3.8/site-packages/sklearn/linear_model/_base.py:141: FutureWarning:\n",
      "\n",
      "'normalize' was deprecated in version 1.0 and will be removed in 1.2.\n",
      "If you wish to scale the data, use Pipeline with a StandardScaler in a preprocessing stage. To reproduce the previous behavior:\n",
      "\n",
      "from sklearn.pipeline import make_pipeline\n",
      "\n",
      "model = make_pipeline(StandardScaler(with_mean=False), LinearRegression())\n",
      "\n",
      "If you wish to pass a sample_weight parameter, you need to pass it as a fit parameter to each step of the pipeline as follows:\n",
      "\n",
      "kwargs = {s[0] + '__sample_weight': sample_weight for s in model.steps}\n",
      "model.fit(X, y, **kwargs)\n",
      "\n",
      "\n",
      "\n"
     ]
    },
    {
     "data": {
      "text/plain": [
       "GridSearchCV(cv=2,\n",
       "             estimator=Pipeline(steps=[('preprocessor',\n",
       "                                        ColumnTransformer(remainder='passthrough',\n",
       "                                                          transformers=[('cat',\n",
       "                                                                         Pipeline(steps=[('onehot',\n",
       "                                                                                          OneHotEncoder(sparse=False))]),\n",
       "                                                                         ['league']),\n",
       "                                                                        ('std-group',\n",
       "                                                                         StdScalerByGroup(),\n",
       "                                                                         ['monsterkills']),\n",
       "                                                                        ('quant',\n",
       "                                                                         QuantileTransformer(),\n",
       "                                                                         ['damagetochampions'])])),\n",
       "                                       ('regressor', LinearRegression())]),\n",
       "             n_jobs=-1,\n",
       "             param_grid={'regressor__copy_X': [True, False],\n",
       "                         'regressor__fit_intercept': [True, False],\n",
       "                         'regressor__normalize': [True, False]})"
      ]
     },
     "execution_count": 275,
     "metadata": {},
     "output_type": "execute_result"
    }
   ],
   "source": [
    "grid_lin = GridSearchCV(estimator=final_pipeline(X_train, y_train, LinearRegression()), param_grid=parameters, cv = 2, n_jobs=-1)\n",
    "grid_lin.fit(X_train, y_train)"
   ]
  },
  {
   "cell_type": "code",
   "execution_count": 292,
   "metadata": {},
   "outputs": [],
   "source": [
    "parameters = {'regressor__solver': ['auto', 'svd', 'cholesky', 'lsqr', 'sparse_cg', 'sag', 'saga', 'lbfgs'],\n",
    "              'regressor__alpha': [1, 2, 3, 4, 5, 6, 7, 8, 9, 10]}"
   ]
  },
  {
   "cell_type": "code",
   "execution_count": 293,
   "metadata": {},
   "outputs": [
    {
     "name": "stderr",
     "output_type": "stream",
     "text": [
      "/Users/nick/opt/anaconda3/envs/dsc80/lib/python3.8/site-packages/sklearn/model_selection/_validation.py:372: FitFailedWarning:\n",
      "\n",
      "\n",
      "20 fits failed out of a total of 160.\n",
      "The score on these train-test partitions for these parameters will be set to nan.\n",
      "If these failures are not expected, you can try to debug them by setting error_score='raise'.\n",
      "\n",
      "Below are more details about the failures:\n",
      "--------------------------------------------------------------------------------\n",
      "20 fits failed with the following error:\n",
      "Traceback (most recent call last):\n",
      "  File \"/Users/nick/opt/anaconda3/envs/dsc80/lib/python3.8/site-packages/sklearn/model_selection/_validation.py\", line 681, in _fit_and_score\n",
      "    estimator.fit(X_train, y_train, **fit_params)\n",
      "  File \"/Users/nick/opt/anaconda3/envs/dsc80/lib/python3.8/site-packages/sklearn/pipeline.py\", line 394, in fit\n",
      "    self._final_estimator.fit(Xt, y, **fit_params_last_step)\n",
      "  File \"/Users/nick/opt/anaconda3/envs/dsc80/lib/python3.8/site-packages/sklearn/linear_model/_ridge.py\", line 1011, in fit\n",
      "    return super().fit(X, y, sample_weight=sample_weight)\n",
      "  File \"/Users/nick/opt/anaconda3/envs/dsc80/lib/python3.8/site-packages/sklearn/linear_model/_ridge.py\", line 714, in fit\n",
      "    raise ValueError(\n",
      "ValueError: 'lbfgs' solver can be used only when positive=True. Please use another solver.\n",
      "\n",
      "\n",
      "/Users/nick/opt/anaconda3/envs/dsc80/lib/python3.8/site-packages/sklearn/model_selection/_search.py:969: UserWarning:\n",
      "\n",
      "One or more of the test scores are non-finite: [0.93797357 0.93797357 0.93797357 0.93145306 0.93145306 0.9314591\n",
      " 0.93143916        nan 0.93798781 0.93798781 0.93798781 0.93145306\n",
      " 0.93145306 0.931449   0.93143234        nan 0.93799804 0.93799804\n",
      " 0.93799804 0.93145306 0.93145306 0.93144594 0.93136809        nan\n",
      " 0.9380052  0.9380052  0.9380052  0.93145306 0.93145306 0.93145874\n",
      " 0.93145499        nan 0.93800994 0.93800994 0.93800994 0.93145306\n",
      " 0.93145306 0.93141368 0.93145487        nan 0.93801268 0.93801268\n",
      " 0.93801268 0.93145306 0.93145306 0.93128069 0.93141281        nan\n",
      " 0.93801375 0.93801375 0.93801375 0.93145306 0.93145306 0.93143663\n",
      " 0.93145508        nan 0.93801339 0.93801339 0.93801339 0.93145306\n",
      " 0.93145306 0.93144652 0.93145875        nan 0.9380118  0.9380118\n",
      " 0.9380118  0.93145306 0.93145306 0.93145481 0.93143922        nan\n",
      " 0.93800913 0.93800913 0.93800913 0.93145306 0.93145306 0.93146488\n",
      " 0.9314567         nan]\n",
      "\n"
     ]
    },
    {
     "data": {
      "text/plain": [
       "GridSearchCV(cv=2,\n",
       "             estimator=Pipeline(steps=[('preprocessor',\n",
       "                                        ColumnTransformer(remainder='passthrough',\n",
       "                                                          transformers=[('cat',\n",
       "                                                                         Pipeline(steps=[('onehot',\n",
       "                                                                                          OneHotEncoder(sparse=False))]),\n",
       "                                                                         ['league']),\n",
       "                                                                        ('std-group',\n",
       "                                                                         StdScalerByGroup(),\n",
       "                                                                         ['monsterkills']),\n",
       "                                                                        ('quant',\n",
       "                                                                         QuantileTransformer(),\n",
       "                                                                         ['damagetochampions'])])),\n",
       "                                       ('regressor', Ridge())]),\n",
       "             n_jobs=-1,\n",
       "             param_grid={'regressor__alpha': [1, 2, 3, 4, 5, 6, 7, 8, 9, 10],\n",
       "                         'regressor__solver': ['auto', 'svd', 'cholesky',\n",
       "                                               'lsqr', 'sparse_cg', 'sag',\n",
       "                                               'saga', 'lbfgs']})"
      ]
     },
     "execution_count": 293,
     "metadata": {},
     "output_type": "execute_result"
    }
   ],
   "source": [
    "grid_ridge = GridSearchCV(estimator=final_pipeline(X_train, y_train, Ridge()), param_grid=parameters, cv = 2, n_jobs=-1)\n",
    "grid_ridge.fit(X_train, y_train)"
   ]
  },
  {
   "cell_type": "code",
   "execution_count": 324,
   "metadata": {},
   "outputs": [],
   "source": [
    "gbrr2 = grid_GBR.score(X_test, y_test)\n",
    "gbrrmse = mean_squared_error(grid_GBR.predict(X_test), y_test, squared=False)\n",
    "gbrscore = (gbrr2, gbrrmse)\n",
    "\n",
    "linr2 = grid_lin.score(X_test, y_test)\n",
    "linrmse = mean_squared_error(grid_lin.predict(X_test), y_test, squared=False)\n",
    "linscore = (linr2, linrmse)\n",
    "\n",
    "ridger2 = grid_ridge.score(X_test, y_test)\n",
    "ridgermse = mean_squared_error(grid_ridge.predict(X_test), y_test, squared=False)\n",
    "ridgescore = (ridger2, ridgermse)"
   ]
  },
  {
   "cell_type": "code",
   "execution_count": 325,
   "metadata": {
    "scrolled": true
   },
   "outputs": [
    {
     "data": {
      "text/plain": [
       "(0.9479765316465001, 76.12912400221188)"
      ]
     },
     "execution_count": 325,
     "metadata": {},
     "output_type": "execute_result"
    }
   ],
   "source": [
    "gbrscore"
   ]
  },
  {
   "cell_type": "code",
   "execution_count": 326,
   "metadata": {},
   "outputs": [
    {
     "data": {
      "text/plain": [
       "(0.9372775172564793, 83.59163145993799)"
      ]
     },
     "execution_count": 326,
     "metadata": {},
     "output_type": "execute_result"
    }
   ],
   "source": [
    "linscore"
   ]
  },
  {
   "cell_type": "code",
   "execution_count": 327,
   "metadata": {
    "scrolled": true
   },
   "outputs": [
    {
     "data": {
      "text/plain": [
       "(0.9364678880044545, 84.12940695718684)"
      ]
     },
     "execution_count": 327,
     "metadata": {},
     "output_type": "execute_result"
    }
   ],
   "source": [
    "ridgescore"
   ]
  },
  {
   "cell_type": "code",
   "execution_count": 332,
   "metadata": {},
   "outputs": [
    {
     "data": {
      "text/plain": [
       "(0.9364469625245184, 84.14326060715081)"
      ]
     },
     "execution_count": 332,
     "metadata": {},
     "output_type": "execute_result"
    }
   ],
   "source": [
    "finr2, finrmse"
   ]
  },
  {
   "cell_type": "code",
   "execution_count": 333,
   "metadata": {},
   "outputs": [
    {
     "data": {
      "text/plain": [
       "(0.9354008998515442, 84.83291987751124)"
      ]
     },
     "execution_count": 333,
     "metadata": {},
     "output_type": "execute_result"
    }
   ],
   "source": [
    "baser2, basermse"
   ]
  },
  {
   "cell_type": "code",
   "execution_count": 328,
   "metadata": {},
   "outputs": [],
   "source": [
    "#best params"
   ]
  },
  {
   "cell_type": "code",
   "execution_count": 329,
   "metadata": {},
   "outputs": [
    {
     "data": {
      "text/plain": [
       "{'regressor__learning_rate': 0.01,\n",
       " 'regressor__max_depth': 4,\n",
       " 'regressor__n_estimators': 1500,\n",
       " 'regressor__subsample': 0.5}"
      ]
     },
     "execution_count": 329,
     "metadata": {},
     "output_type": "execute_result"
    }
   ],
   "source": [
    "grid_GBR.best_params_"
   ]
  },
  {
   "cell_type": "markdown",
   "metadata": {},
   "source": [
    "### Fairness Analysis"
   ]
  },
  {
   "cell_type": "code",
   "execution_count": null,
   "metadata": {},
   "outputs": [],
   "source": [
    "#Null Hypothesis: Our model is fair. Its RMSE for LCK CL and other leagues are roughly the same, \n",
    "#and any differences are due to random chance.\n",
    "#Alternative Hypothesis: Our model is unfair. Its RMSE for LCK CL league is lower than \n",
    "#its precision for other leagues"
   ]
  },
  {
   "cell_type": "code",
   "execution_count": 337,
   "metadata": {
    "ExecuteTime": {
     "end_time": "2019-10-31T23:36:28.666489Z",
     "start_time": "2019-10-31T23:36:28.664381Z"
    }
   },
   "outputs": [
    {
     "data": {
      "text/html": [
       "<div>\n",
       "<style scoped>\n",
       "    .dataframe tbody tr th:only-of-type {\n",
       "        vertical-align: middle;\n",
       "    }\n",
       "\n",
       "    .dataframe tbody tr th {\n",
       "        vertical-align: top;\n",
       "    }\n",
       "\n",
       "    .dataframe thead th {\n",
       "        text-align: right;\n",
       "    }\n",
       "</style>\n",
       "<table border=\"1\" class=\"dataframe\">\n",
       "  <thead>\n",
       "    <tr style=\"text-align: right;\">\n",
       "      <th></th>\n",
       "      <th>X_test_league</th>\n",
       "      <th>y_test</th>\n",
       "      <th>preds</th>\n",
       "    </tr>\n",
       "  </thead>\n",
       "  <tbody>\n",
       "    <tr>\n",
       "      <th>0</th>\n",
       "      <td>False</td>\n",
       "      <td>1832.0</td>\n",
       "      <td>1799.771978</td>\n",
       "    </tr>\n",
       "    <tr>\n",
       "      <th>1</th>\n",
       "      <td>False</td>\n",
       "      <td>1760.0</td>\n",
       "      <td>1980.479900</td>\n",
       "    </tr>\n",
       "    <tr>\n",
       "      <th>2</th>\n",
       "      <td>False</td>\n",
       "      <td>2399.0</td>\n",
       "      <td>2303.956355</td>\n",
       "    </tr>\n",
       "    <tr>\n",
       "      <th>3</th>\n",
       "      <td>False</td>\n",
       "      <td>2285.0</td>\n",
       "      <td>2260.856406</td>\n",
       "    </tr>\n",
       "    <tr>\n",
       "      <th>4</th>\n",
       "      <td>False</td>\n",
       "      <td>2072.0</td>\n",
       "      <td>2077.784654</td>\n",
       "    </tr>\n",
       "    <tr>\n",
       "      <th>...</th>\n",
       "      <td>...</td>\n",
       "      <td>...</td>\n",
       "      <td>...</td>\n",
       "    </tr>\n",
       "    <tr>\n",
       "      <th>2650</th>\n",
       "      <td>False</td>\n",
       "      <td>1775.0</td>\n",
       "      <td>1742.406219</td>\n",
       "    </tr>\n",
       "    <tr>\n",
       "      <th>2651</th>\n",
       "      <td>False</td>\n",
       "      <td>2130.0</td>\n",
       "      <td>2057.594095</td>\n",
       "    </tr>\n",
       "    <tr>\n",
       "      <th>2652</th>\n",
       "      <td>False</td>\n",
       "      <td>1826.0</td>\n",
       "      <td>1837.713113</td>\n",
       "    </tr>\n",
       "    <tr>\n",
       "      <th>2653</th>\n",
       "      <td>False</td>\n",
       "      <td>1567.0</td>\n",
       "      <td>1674.732688</td>\n",
       "    </tr>\n",
       "    <tr>\n",
       "      <th>2654</th>\n",
       "      <td>False</td>\n",
       "      <td>1740.0</td>\n",
       "      <td>1669.075298</td>\n",
       "    </tr>\n",
       "  </tbody>\n",
       "</table>\n",
       "<p>2655 rows × 3 columns</p>\n",
       "</div>"
      ],
      "text/plain": [
       "      X_test_league  y_test        preds\n",
       "0             False  1832.0  1799.771978\n",
       "1             False  1760.0  1980.479900\n",
       "2             False  2399.0  2303.956355\n",
       "3             False  2285.0  2260.856406\n",
       "4             False  2072.0  2077.784654\n",
       "...             ...     ...          ...\n",
       "2650          False  1775.0  1742.406219\n",
       "2651          False  2130.0  2057.594095\n",
       "2652          False  1826.0  1837.713113\n",
       "2653          False  1567.0  1674.732688\n",
       "2654          False  1740.0  1669.075298\n",
       "\n",
       "[2655 rows x 3 columns]"
      ]
     },
     "execution_count": 337,
     "metadata": {},
     "output_type": "execute_result"
    }
   ],
   "source": [
    "#OBSERVED STAT\n",
    "finpreds = finalpipeline.predict(X_test)\n",
    "finr2 = finalpipeline.score(X_test, y_test)\n",
    "\n",
    "obsdf = pd.DataFrame()\n",
    "\n",
    "binarizer = Binarizer()\n",
    "X_test_league = binarizer.fit_transform(X_test['league'].array.reshape(-1,1) == 'VCS').flatten()\n",
    "\n",
    "obsdf['X_test_league'] = pd.Series(X_test_league)\n",
    "obsdf['y_test'] = y_test.array\n",
    "obsdf['preds'] = finpreds\n",
    "obsdf"
   ]
  },
  {
   "cell_type": "code",
   "execution_count": 338,
   "metadata": {},
   "outputs": [
    {
     "data": {
      "text/plain": [
       "0.0"
      ]
     },
     "execution_count": 338,
     "metadata": {},
     "output_type": "execute_result"
    }
   ],
   "source": [
    "(\n",
    "    obsdf\n",
    "    .groupby('X_test_league')\n",
    "    .apply(lambda x: mean_squared_error(obsdf['y_test'], obsdf['preds'], squared=False))\n",
    "    .rename('RMSE')\n",
    "    .to_frame()\n",
    ")\n",
    "obs = obsdf.groupby('X_test_league').apply(lambda x: mean_squared_error(obsdf['y_test'], obsdf['preds'], squared=False)).diff().iloc[-1]\n",
    "obs"
   ]
  },
  {
   "cell_type": "code",
   "execution_count": 339,
   "metadata": {},
   "outputs": [],
   "source": [
    "diff_in_rmse = []\n",
    "for _ in range(1000):\n",
    "    s = (\n",
    "        obsdf[['X_test_league', 'preds', 'y_test']]\n",
    "        .assign(X_test_league=obsdf.X_test_league.sample(frac=1.0, replace=False).reset_index(drop=True))\n",
    "        .groupby('X_test_league')\n",
    "        .apply(lambda x: mean_squared_error(x['y_test'], x['preds'], squared=False))\n",
    "        .diff()\n",
    "        .iloc[-1]\n",
    "    )\n",
    "    \n",
    "    diff_in_rmse.append(s)"
   ]
  },
  {
   "cell_type": "code",
   "execution_count": 340,
   "metadata": {},
   "outputs": [
    {
     "data": {
      "text/plain": [
       "0.535"
      ]
     },
     "execution_count": 340,
     "metadata": {},
     "output_type": "execute_result"
    }
   ],
   "source": [
    "p_value = (diff_in_rmse <= obs).mean()\n",
    "p_value\n",
    "#pval is greater than 0.05 so fair to reject null huypothesis. our model is fair!"
   ]
  },
  {
   "cell_type": "code",
   "execution_count": null,
   "metadata": {},
   "outputs": [],
   "source": []
  }
 ],
 "metadata": {
  "kernelspec": {
   "display_name": "Python 3 (ipykernel)",
   "language": "python",
   "name": "python3"
  },
  "language_info": {
   "codemirror_mode": {
    "name": "ipython",
    "version": 3
   },
   "file_extension": ".py",
   "mimetype": "text/x-python",
   "name": "python",
   "nbconvert_exporter": "python",
   "pygments_lexer": "ipython3",
   "version": "3.8.16"
  }
 },
 "nbformat": 4,
 "nbformat_minor": 2
}
